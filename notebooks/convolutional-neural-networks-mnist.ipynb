{
 "cells": [
  {
   "cell_type": "code",
   "execution_count": 3,
   "metadata": {},
   "outputs": [
    {
     "data": {
      "text/plain": [
       "<Figure size 640x480 with 5 Axes>"
      ]
     },
     "metadata": {},
     "output_type": "display_data"
    }
   ],
   "source": [
    "import numpy as np\n",
    "import matplotlib.pyplot as plt\n",
    "from sklearn import datasets\n",
    "\n",
    "digits = datasets.load_digits()\n",
    "\n",
    "# choose some random images to display\n",
    "indices = np.arange(len(digits.images))\n",
    "display = np.random.choice(indices, size=5)\n",
    "\n",
    "for i, image in enumerate(digits.images[display]):\n",
    "    plt.subplot(1, 5, i+1)\n",
    "    plt.axis('off')\n",
    "    plt.imshow(image, cmap=plt.cm.gray_r, interpolation='nearest')\n",
    "    plt.title(\"Label: %d\" % digits.target[display[i]])\n",
    "plt.show()\n",
    "    \n",
    "mnist_data = digits.images\n",
    "labels = digits.target\n"
   ]
  },
  {
   "cell_type": "code",
   "execution_count": 4,
   "metadata": {},
   "outputs": [
    {
     "name": "stderr",
     "output_type": "stream",
     "text": [
      "/home/andreas/anaconda3/lib/python3.6/site-packages/sklearn/model_selection/_split.py:2026: FutureWarning: From version 0.21, test_size will always complement train_size unless both are specified.\n",
      "  FutureWarning)\n"
     ]
    }
   ],
   "source": [
    "from sklearn.model_selection import train_test_split\n",
    "\n",
    "train_to_test_ratio = 0.8\n",
    "X_train, X_test, Y_train, Y_test = train_test_split(mnist_data, labels, train_size=train_to_test_ratio)\n"
   ]
  },
  {
   "cell_type": "code",
   "execution_count": 15,
   "metadata": {},
   "outputs": [],
   "source": [
    "class ConvolutionalNeuralNetwork:\n",
    "    def __init__(self, X_data, Y_data):\n",
    "        self.X_data = X_data\n",
    "        self.Y_data = Y_data\n",
    "        self.n_inputs, self.input_width, self.input_height = X_data.shape\n",
    "        \n",
    "        self.padding = 1\n",
    "        self.receptive_field = 3\n",
    "        self.stride = 1\n",
    "        self.n_filters_layer1 = 3\n",
    "        \n",
    "        self.output_width = int((self.input_width - self.receptive_field + 2 * self.padding) / self.stride + 1)\n",
    "        self.output_height = int((self.input_height - self.receptive_field + 2 * self.padding) / self.stride + 1)\n",
    "        \n",
    "        self.weights_layer1 = np.random.randn(self.n_filters_layer1, self.receptive_field, self.receptive_field)\n",
    "        self.bias_layer1 = np.zeros(self.n_filters_layer1)\n",
    "    \n",
    "    def forward_convolution(self):\n",
    "        self.z1 = np.zeros((self.n_inputs, self.n_filters_layer1, self.output_width, self.output_height))\n",
    "        for i in range(self.output_width):\n",
    "            for j in range(self.output_height):\n",
    "                self.z1[:,:,i,j] = np.sum(self.X_data[:,i*self.stride:i*self.stride+self.receptive_field,j*self.stride:j*self.stride+self.receptive_field, np.newaxis])\n",
    "                print(self.z1.shape)\n",
    "        \n"
   ]
  },
  {
   "cell_type": "code",
   "execution_count": 16,
   "metadata": {},
   "outputs": [
    {
     "name": "stdout",
     "output_type": "stream",
     "text": [
      "(1437, 3, 8, 8)\n",
      "(1437, 3, 8, 8)\n",
      "(1437, 3, 8, 8)\n",
      "(1437, 3, 8, 8)\n",
      "(1437, 3, 8, 8)\n",
      "(1437, 3, 8, 8)\n",
      "(1437, 3, 8, 8)\n",
      "(1437, 3, 8, 8)\n",
      "(1437, 3, 8, 8)\n",
      "(1437, 3, 8, 8)\n",
      "(1437, 3, 8, 8)\n",
      "(1437, 3, 8, 8)\n",
      "(1437, 3, 8, 8)\n",
      "(1437, 3, 8, 8)\n",
      "(1437, 3, 8, 8)\n",
      "(1437, 3, 8, 8)\n",
      "(1437, 3, 8, 8)\n",
      "(1437, 3, 8, 8)\n",
      "(1437, 3, 8, 8)\n",
      "(1437, 3, 8, 8)\n",
      "(1437, 3, 8, 8)\n",
      "(1437, 3, 8, 8)\n",
      "(1437, 3, 8, 8)\n",
      "(1437, 3, 8, 8)\n",
      "(1437, 3, 8, 8)\n",
      "(1437, 3, 8, 8)\n",
      "(1437, 3, 8, 8)\n",
      "(1437, 3, 8, 8)\n",
      "(1437, 3, 8, 8)\n",
      "(1437, 3, 8, 8)\n",
      "(1437, 3, 8, 8)\n",
      "(1437, 3, 8, 8)\n",
      "(1437, 3, 8, 8)\n",
      "(1437, 3, 8, 8)\n",
      "(1437, 3, 8, 8)\n",
      "(1437, 3, 8, 8)\n",
      "(1437, 3, 8, 8)\n",
      "(1437, 3, 8, 8)\n",
      "(1437, 3, 8, 8)\n",
      "(1437, 3, 8, 8)\n",
      "(1437, 3, 8, 8)\n",
      "(1437, 3, 8, 8)\n",
      "(1437, 3, 8, 8)\n",
      "(1437, 3, 8, 8)\n",
      "(1437, 3, 8, 8)\n",
      "(1437, 3, 8, 8)\n",
      "(1437, 3, 8, 8)\n",
      "(1437, 3, 8, 8)\n",
      "(1437, 3, 8, 8)\n",
      "(1437, 3, 8, 8)\n",
      "(1437, 3, 8, 8)\n",
      "(1437, 3, 8, 8)\n",
      "(1437, 3, 8, 8)\n",
      "(1437, 3, 8, 8)\n",
      "(1437, 3, 8, 8)\n",
      "(1437, 3, 8, 8)\n",
      "(1437, 3, 8, 8)\n",
      "(1437, 3, 8, 8)\n",
      "(1437, 3, 8, 8)\n",
      "(1437, 3, 8, 8)\n",
      "(1437, 3, 8, 8)\n",
      "(1437, 3, 8, 8)\n",
      "(1437, 3, 8, 8)\n",
      "(1437, 3, 8, 8)\n"
     ]
    }
   ],
   "source": [
    "cnn = ConvolutionalNeuralNetwork(X_train, Y_train)\n",
    "cnn.forward_convolution()\n"
   ]
  }
 ],
 "metadata": {
  "kernelspec": {
   "display_name": "Python 3",
   "language": "python",
   "name": "python3"
  },
  "language_info": {
   "codemirror_mode": {
    "name": "ipython",
    "version": 3
   },
   "file_extension": ".py",
   "mimetype": "text/x-python",
   "name": "python",
   "nbconvert_exporter": "python",
   "pygments_lexer": "ipython3",
   "version": "3.6.5"
  }
 },
 "nbformat": 4,
 "nbformat_minor": 2
}
