{
 "cells": [
  {
   "cell_type": "markdown",
   "metadata": {},
   "source": [
    "# Predicting the phases of the Ising model using deep neural networks and convolutional neural networks\n",
    "  \n",
    "Possible structure:  \n",
    "a) Import and process data. Turn images into feature matrix. Create training and test datasets.  \n",
    "b) Define network architecture. Implement forward pass. Implement backward pass. Train network.\n",
    "Calculate accuracy score.  \n",
    "c) Add regularization. Perform a grid search to find optimal learning rate and regularization parameter.  \n",
    "d) Add more layers? Add more neurons?  \n",
    "e) Implement in scikit-learn. Implement in Tensorflow.  \n",
    "f) Implement convolutional network in Tensorflow.  \n",
    "g) More complicated physical (Ising) model? Train on other datasets?"
   ]
  }
 ],
 "metadata": {
  "kernelspec": {
   "display_name": "Python 3",
   "language": "python",
   "name": "python3"
  },
  "language_info": {
   "codemirror_mode": {
    "name": "ipython",
    "version": 3
   },
   "file_extension": ".py",
   "mimetype": "text/x-python",
   "name": "python",
   "nbconvert_exporter": "python",
   "pygments_lexer": "ipython3",
   "version": "3.6.6"
  }
 },
 "nbformat": 4,
 "nbformat_minor": 2
}
