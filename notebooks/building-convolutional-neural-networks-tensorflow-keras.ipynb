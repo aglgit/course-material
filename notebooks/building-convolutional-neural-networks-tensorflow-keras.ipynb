{
 "cells": [
  {
   "cell_type": "markdown",
   "metadata": {},
   "source": [
    "# Building convolutional neural networks in Tensorflow and Keras"
   ]
  },
  {
   "cell_type": "markdown",
   "metadata": {},
   "source": [
    "# Convolutional neural networks\n",
    "  \n",
    "Text."
   ]
  },
  {
   "cell_type": "code",
   "execution_count": 1,
   "metadata": {},
   "outputs": [
    {
     "data": {
      "image/png": "[encoded data removed]",
      "text/plain": [
       "<Figure size 432x288 with 5 Axes>"
      ]
     },
     "metadata": {},
     "output_type": "display_data"
    }
   ],
   "source": [
    "import numpy as np\n",
    "import matplotlib.pyplot as plt\n",
    "from sklearn import datasets\n",
    "\n",
    "%matplotlib inline\n",
    "\n",
    "np.random.seed(0)\n",
    "\n",
    "digits = datasets.load_digits()\n",
    "    \n",
    "mnist_data = digits.images\n",
    "mnist_data = mnist_data[:,:,:,np.newaxis]\n",
    "labels = digits.target\n",
    "\n",
    "# choose some random images to display\n",
    "indices = np.arange(len(digits.images))\n",
    "display = np.random.choice(indices, size=5)\n",
    "\n",
    "for i, image in enumerate(digits.images[display]):\n",
    "    plt.subplot(1, 5, i+1)\n",
    "    plt.axis('off')\n",
    "    plt.imshow(image, cmap=plt.cm.gray_r, interpolation='nearest')\n",
    "    plt.title(\"Label: %d\" % digits.target[display[i]])\n",
    "plt.show()\n"
   ]
  },
  {
   "cell_type": "code",
   "execution_count": 2,
   "metadata": {},
   "outputs": [
    {
     "name": "stderr",
     "output_type": "stream",
     "text": [
      "Using TensorFlow backend.\n"
     ]
    }
   ],
   "source": [
    "from keras.utils import to_categorical\n",
    "from sklearn.model_selection import train_test_split\n",
    "\n",
    "labels = to_categorical(labels)\n",
    "\n",
    "train_size = 0.8\n",
    "test_size = 1 - train_size\n",
    "X_train, X_test, Y_train, Y_test = train_test_split(mnist_data, labels, train_size=train_size,\n",
    "                                                    test_size=test_size)\n"
   ]
  },
  {
   "cell_type": "code",
   "execution_count": 3,
   "metadata": {},
   "outputs": [],
   "source": [
    "import tensorflow as tf\n",
    "\n",
    "class CNNModel:\n",
    "    def __init__(\n",
    "        self,\n",
    "        input_shape,\n",
    "        n_filters=10,\n",
    "        n_neurons_connected=50,\n",
    "        n_categories=10,\n",
    "        receptive_field=3,\n",
    "        stride=1,\n",
    "        padding=1,\n",
    "        eta=0.1,\n",
    "    ):\n",
    "        \n",
    "        self.global_step = tf.Variable(0, dtype=tf.int32, trainable=False, name='global_step')\n",
    "\n",
    "        self.input_width, self.input_height, self.depth = input_shape\n",
    "        \n",
    "        self.n_filters = n_filters\n",
    "        self.n_downsampled = int(self.input_width*self.input_height*n_filters / 4)\n",
    "        self.n_neurons_connected = n_neurons_connected\n",
    "        self.n_categories = n_categories\n",
    "        \n",
    "        self.receptive_field = receptive_field\n",
    "        self.stride = stride\n",
    "        self.strides = [stride, stride, stride, stride]\n",
    "        self.padding = padding\n",
    "        self.eta = eta\n",
    "        \n",
    "        self.create_placeholders()\n",
    "        self.create_CNN()\n",
    "        self.create_loss()\n",
    "        self.create_accuracy()\n",
    "        self.create_optimiser()\n",
    "    \n",
    "    def create_placeholders(self):\n",
    "        with tf.name_scope('data'):\n",
    "            self.X = tf.placeholder(tf.float32, shape=(None, self.input_width, self.input_height, self.depth), name='X_data')\n",
    "            self.Y = tf.placeholder(tf.float32, shape=(None, self.n_categories), name='Y_data')\n",
    "    \n",
    "    def create_CNN(self):\n",
    "        with tf.name_scope('CNN'):\n",
    "            \n",
    "            # Convolutional layer\n",
    "            W_conv = self.weight_variable([self.receptive_field, self.receptive_field, self.depth, self.n_filters], name='conv', dtype=tf.float32)\n",
    "            b_conv = self.weight_variable([self.n_filters], name='conv', dtype=tf.float32)\n",
    "            z_conv = tf.nn.conv2d(self.X, W_conv, self.strides, padding='SAME', name='conv') + b_conv\n",
    "            a_conv = tf.nn.relu(z_conv)\n",
    "            \n",
    "            # 2x2 max pooling\n",
    "            a_pool = tf.nn.max_pool(a_conv, [1, 2, 2, 1], [1, 2, 2, 1], padding='SAME', name='pool')\n",
    "            \n",
    "            # Fully connected layer\n",
    "            a_pool_flat = tf.reshape(a_pool, [-1, self.n_downsampled])\n",
    "            W_fc = self.weight_variable([self.n_downsampled, self.n_neurons_connected], name='fc', dtype=tf.float32)\n",
    "            b_fc = self.bias_variable([self.n_neurons_connected], name='fc', dtype=tf.float32)\n",
    "            a_fc = tf.nn.relu(tf.matmul(a_pool_flat, W_fc) + b_fc)\n",
    "            \n",
    "            # Output layer\n",
    "            W_out = self.weight_variable([self.n_neurons_connected, self.n_categories], name='out', dtype=tf.float32)\n",
    "            b_out = self.bias_variable([self.n_categories], name='out', dtype=tf.float32)\n",
    "            self.z_out = tf.matmul(a_fc, W_out) + b_out\n",
    "    \n",
    "    def create_loss(self):\n",
    "        with tf.name_scope('loss'):\n",
    "            self.loss = tf.reduce_mean(tf.nn.softmax_cross_entropy_with_logits_v2(labels=self.Y, logits=self.z_out))\n",
    "\n",
    "    def create_accuracy(self):\n",
    "        with tf.name_scope('accuracy'):\n",
    "            correct_prediction = tf.equal(tf.argmax(self.Y, 1), tf.argmax(self.z_out, 1))\n",
    "            correct_prediction = tf.cast(correct_prediction, tf.float32)\n",
    "            self.accuracy = tf.reduce_mean(correct_prediction)\n",
    "    \n",
    "    def create_optimiser(self):\n",
    "        with tf.name_scope('optimizer'):\n",
    "            self.optimizer = tf.train.GradientDescentOptimizer(learning_rate=self.eta).minimize(self.loss, global_step=self.global_step)\n",
    "            \n",
    "    def weight_variable(self, shape, name='', dtype=tf.float32):\n",
    "        initial = tf.truncated_normal(shape, stddev=0.1)\n",
    "        return tf.Variable(initial, name=name, dtype=dtype)\n",
    "    \n",
    "    def bias_variable(self, shape, name='', dtype=tf.float32):\n",
    "        initial = tf.constant(0.1, shape=shape)\n",
    "        return tf.Variable(initial, name=name, dtype=dtype)"
   ]
  },
  {
   "cell_type": "code",
   "execution_count": 4,
   "metadata": {},
   "outputs": [],
   "source": [
    "from sklearn.metrics import accuracy_score\n",
    "\n",
    "epochs = 10\n",
    "batch_size = 100\n",
    "n_inputs = X_train.shape[0]\n",
    "input_shape = X_train.shape[1:]\n",
    "n_filters=10\n",
    "n_neurons_connected=50\n",
    "n_categories=10\n",
    "\n",
    "eta_vals = np.logspace(-5, 1, 7)\n",
    "lmbd_vals = np.logspace(-5, 1, 7)\n"
   ]
  },
  {
   "cell_type": "code",
   "execution_count": 5,
   "metadata": {},
   "outputs": [
    {
     "name": "stdout",
     "output_type": "stream",
     "text": [
      "Train accuracy: 0.974\n",
      "Test accuracy: 0.956\n"
     ]
    }
   ],
   "source": [
    "CNN = CNNModel(input_shape)\n",
    "\n",
    "iterations = n_inputs // batch_size\n",
    "data_indices = np.arange(n_inputs)\n",
    "\n",
    "with tf.Session() as sess:\n",
    "    sess.run(tf.global_variables_initializer())\n",
    "    for i in range(epochs):\n",
    "        for j in range(iterations):\n",
    "            chosen_datapoints = np.random.choice(data_indices, size=batch_size, replace=False)\n",
    "            batch_X, batch_Y = X_train[chosen_datapoints], Y_train[chosen_datapoints]\n",
    "            \n",
    "            sess.run([CNN.loss, CNN.optimizer],\n",
    "                     feed_dict={CNN.X: batch_X,\n",
    "                                CNN.Y: batch_Y})\n",
    "            accuracy = sess.run(CNN.accuracy,\n",
    "                                feed_dict={CNN.X: batch_X,\n",
    "                                           CNN.Y: batch_Y})\n",
    "            step = sess.run(CNN.global_step)\n",
    "    \n",
    "    train_loss, train_accuracy = sess.run([CNN.loss, CNN.accuracy],\n",
    "                                          feed_dict={CNN.X: X_train,\n",
    "                                                     CNN.Y: Y_train})\n",
    "    \n",
    "    test_loss, test_accuracy = sess.run([CNN.loss, CNN.accuracy],\n",
    "                                        feed_dict={CNN.X: X_test,\n",
    "                                                   CNN.Y: Y_test})\n",
    "    \n",
    "    print(\"Train accuracy: %.3f\" % train_accuracy)\n",
    "    print(\"Test accuracy: %.3f\" % test_accuracy)"
   ]
  },
  {
   "cell_type": "code",
   "execution_count": 6,
   "metadata": {},
   "outputs": [
    {
     "name": "stdout",
     "output_type": "stream",
     "text": [
      "360/360 [==============================] - 0s 74us/step\n",
      "Accuracy: 0.850\n"
     ]
    }
   ],
   "source": [
    "from keras.models import Sequential\n",
    "from keras.layers.convolutional import Conv2D\n",
    "from keras.layers.convolutional import MaxPooling2D\n",
    "from keras.layers import Flatten\n",
    "from keras.layers import Dense\n",
    "\n",
    "def create_CNN(input_shape, n_filters, receptive_field, n_neurons_connected, n_categories):\n",
    "    model = Sequential()\n",
    "    model.add(Conv2D(n_filters, (receptive_field, receptive_field), input_shape=input_shape, padding='same',\n",
    "              activation='relu'))\n",
    "    model.add(MaxPooling2D(pool_size=(2, 2)))\n",
    "    model.add(Flatten())\n",
    "    model.add(Dense(n_neurons_connected, activation='relu'))\n",
    "    model.add(Dense(n_categories, activation='softmax'))\n",
    "    \n",
    "    model.compile(loss='categorical_crossentropy', optimizer='SGD', metrics=['accuracy'])\n",
    "    \n",
    "    return model\n",
    "\n",
    "model = create_CNN(input_shape, n_filters, 3, n_neurons_connected, n_categories)\n",
    "model.fit(X_train, Y_train, epochs=epochs, batch_size=batch_size, verbose=0)\n",
    "\n",
    "scores = model.evaluate(X_test, Y_test)\n",
    "print(\"Accuracy: %.3f\" % scores[1])"
   ]
  }
 ],
 "metadata": {
  "kernelspec": {
   "display_name": "Python 3",
   "language": "python",
   "name": "python3"
  },
  "language_info": {
   "codemirror_mode": {
    "name": "ipython",
    "version": 3
   },
   "file_extension": ".py",
   "mimetype": "text/x-python",
   "name": "python",
   "nbconvert_exporter": "python",
   "pygments_lexer": "ipython3",
   "version": "3.6.6"
  }
 },
 "nbformat": 4,
 "nbformat_minor": 2
}
