{
 "cells": [
  {
   "cell_type": "markdown",
   "metadata": {},
   "source": [
    "Ideas:  \n",
    "1) Derive the cost function for a binary classifier using Maximum Likelihood Estimation (MLE).  \n",
    "2) Derive the backpropagation equations.  \n",
    "3) Perform backpropagation by hand.  \n",
    "4) Theoretical questions (exam questions)?  \n",
    "5) Optimization methods?"
   ]
  }
 ],
 "metadata": {
  "kernelspec": {
   "display_name": "Python 3",
   "language": "python",
   "name": "python3"
  },
  "language_info": {
   "codemirror_mode": {
    "name": "ipython",
    "version": 3
   },
   "file_extension": ".py",
   "mimetype": "text/x-python",
   "name": "python",
   "nbconvert_exporter": "python",
   "pygments_lexer": "ipython3",
   "version": "3.6.6"
  }
 },
 "nbformat": 4,
 "nbformat_minor": 2
}
